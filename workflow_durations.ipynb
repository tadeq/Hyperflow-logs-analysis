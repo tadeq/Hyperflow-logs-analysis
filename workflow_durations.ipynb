{
 "cells": [
  {
   "cell_type": "markdown",
   "metadata": {},
   "source": [
    "AWS"
   ]
  },
  {
   "cell_type": "code",
   "execution_count": 37,
   "metadata": {},
   "outputs": [],
   "source": [
    "import matplotlib.pyplot as plt\n",
    "import numpy as np\n",
    "from datetime import datetime"
   ]
  },
  {
   "cell_type": "code",
   "execution_count": 38,
   "metadata": {},
   "outputs": [],
   "source": [
    "montage_20_t32xlarge_start = '20:06:05'\n",
    "montage_20_t32xlarge_stop = '20:22:35'\n",
    "montage_20_t3large_start = '18:46:52'\n",
    "montage_20_t3large_stop = '19:02:29'\n",
    "\n",
    "soykb_446_t32xlarge_start = '21:40:09'\n",
    "soykb_446_t32xlarge_stop = '22:49:10'\n",
    "soykb_446_t3large_start = '14:18:28'\n",
    "soykb_446_t3large_stop = '17:15:02'\n",
    "\n",
    "montage2_10_t32xlarge_start = '20:53:17'\n",
    "montage2_10_t32xlarge_stop = '21:46:57'\n",
    "montage2_10_t3large_start = '08:08:51'\n",
    "montage2_10_t3large_stop = '09:35:05'"
   ]
  },
  {
   "cell_type": "code",
   "execution_count": 51,
   "metadata": {},
   "outputs": [],
   "source": [
    "def calculate_duration(time_from, time_to):\n",
    "    fmt = '%H:%M:%S'\n",
    "    diff = datetime.strptime(time_from, fmt) - datetime.strptime(time_to, fmt)\n",
    "    h,m,s = str(diff).split(':')\n",
    "    return int(h)*60 + int(m) + int(s)/60"
   ]
  },
  {
   "cell_type": "code",
   "execution_count": 52,
   "metadata": {},
   "outputs": [],
   "source": [
    "aws_data = {'t3.large': [calculate_duration(montage_20_t3large_stop, montage_20_t3large_start),\n",
    "                        calculate_duration(montage2_10_t3large_stop, montage2_10_t3large_start),\n",
    "                        calculate_duration(soykb_446_t3large_stop, soykb_446_t3large_start)],\n",
    "           't3.2xlarge': [calculate_duration(montage_20_t32xlarge_stop, montage_20_t32xlarge_start),\n",
    "                        calculate_duration(montage2_10_t32xlarge_stop, montage2_10_t32xlarge_start),\n",
    "                        calculate_duration(soykb_446_t32xlarge_stop, soykb_446_t32xlarge_start)]}"
   ]
  },
  {
   "cell_type": "code",
   "execution_count": 53,
   "metadata": {},
   "outputs": [],
   "source": [
    "def draw_comparison_bar_plot(data, labels):\n",
    "    fig, ax = plt.subplots()\n",
    "    x = np.arange(len(labels))\n",
    "    for i, (instance, times) in enumerate(data.items()):\n",
    "        width = 0.8/len(times)\n",
    "        ax.bar(x - 0.4 + width/2 + width*i, times, width, label=instance)\n",
    "\n",
    "    ax.set_xticks(x)\n",
    "    ax.set_xticklabels(labels)\n",
    "    ax.set_ylabel('Time [minutes]')\n",
    "    ax.set_title('Time of workflows execution by instance type')\n",
    "    plt.xticks(rotation=90)\n",
    "    \n",
    "    ax.legend()"
   ]
  },
  {
   "cell_type": "code",
   "execution_count": 54,
   "metadata": {},
   "outputs": [
    {
     "data": {
      "image/png": "[encoded data removed]",
      "text/plain": [
       "<Figure size 432x288 with 1 Axes>"
      ]
     },
     "metadata": {
      "needs_background": "light"
     },
     "output_type": "display_data"
    }
   ],
   "source": [
    "draw_comparison_bar_plot(aws_data, ['montage','montage2','soykb'])"
   ]
  },
  {
   "cell_type": "markdown",
   "metadata": {},
   "source": [
    "GCLOUD"
   ]
  },
  {
   "cell_type": "code",
   "execution_count": null,
   "metadata": {},
   "outputs": [],
   "source": []
  },
  {
   "cell_type": "code",
   "execution_count": null,
   "metadata": {},
   "outputs": [],
   "source": []
  }
 ],
 "metadata": {
  "kernelspec": {
   "display_name": "Python 3",
   "language": "python",
   "name": "python3"
  },
  "language_info": {
   "codemirror_mode": {
    "name": "ipython",
    "version": 3
   },
   "file_extension": ".py",
   "mimetype": "text/x-python",
   "name": "python",
   "nbconvert_exporter": "python",
   "pygments_lexer": "ipython3",
   "version": "3.7.9"
  }
 },
 "nbformat": 4,
 "nbformat_minor": 4
}
