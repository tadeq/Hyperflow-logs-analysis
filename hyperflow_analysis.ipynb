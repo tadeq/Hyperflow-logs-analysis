{
 "cells": [
  {
   "cell_type": "code",
   "execution_count": 81,
   "metadata": {},
   "outputs": [
    {
     "name": "stdout",
     "output_type": "stream",
     "text": [
      "Requirement already satisfied: PyAthena in /home/ec2-user/anaconda3/envs/python3/lib/python3.6/site-packages (2.1.0)\n",
      "Requirement already satisfied: botocore>=1.5.52 in /home/ec2-user/anaconda3/envs/python3/lib/python3.6/site-packages (from PyAthena) (1.19.37)\n",
      "Requirement already satisfied: boto3>=1.4.4 in /home/ec2-user/anaconda3/envs/python3/lib/python3.6/site-packages (from PyAthena) (1.16.37)\n",
      "Requirement already satisfied: tenacity>=4.1.0 in /home/ec2-user/anaconda3/envs/python3/lib/python3.6/site-packages (from PyAthena) (6.3.1)\n",
      "Requirement already satisfied: jmespath<1.0.0,>=0.7.1 in /home/ec2-user/anaconda3/envs/python3/lib/python3.6/site-packages (from boto3>=1.4.4->PyAthena) (0.10.0)\n",
      "Requirement already satisfied: botocore>=1.5.52 in /home/ec2-user/anaconda3/envs/python3/lib/python3.6/site-packages (from PyAthena) (1.19.37)\n",
      "Requirement already satisfied: s3transfer<0.4.0,>=0.3.0 in /home/ec2-user/anaconda3/envs/python3/lib/python3.6/site-packages (from boto3>=1.4.4->PyAthena) (0.3.3)\n",
      "Requirement already satisfied: python-dateutil<3.0.0,>=2.1 in /home/ec2-user/anaconda3/envs/python3/lib/python3.6/site-packages (from botocore>=1.5.52->PyAthena) (2.8.1)\n",
      "Requirement already satisfied: jmespath<1.0.0,>=0.7.1 in /home/ec2-user/anaconda3/envs/python3/lib/python3.6/site-packages (from boto3>=1.4.4->PyAthena) (0.10.0)\n",
      "Requirement already satisfied: urllib3<1.27,>=1.25.4 in /home/ec2-user/anaconda3/envs/python3/lib/python3.6/site-packages (from botocore>=1.5.52->PyAthena) (1.25.11)\n",
      "Requirement already satisfied: six>=1.5 in /home/ec2-user/anaconda3/envs/python3/lib/python3.6/site-packages (from python-dateutil<3.0.0,>=2.1->botocore>=1.5.52->PyAthena) (1.15.0)\n",
      "Requirement already satisfied: botocore>=1.5.52 in /home/ec2-user/anaconda3/envs/python3/lib/python3.6/site-packages (from PyAthena) (1.19.37)\n",
      "Requirement already satisfied: six>=1.5 in /home/ec2-user/anaconda3/envs/python3/lib/python3.6/site-packages (from python-dateutil<3.0.0,>=2.1->botocore>=1.5.52->PyAthena) (1.15.0)\n",
      "\u001b[33mWARNING: You are using pip version 20.3; however, version 20.3.3 is available.\n",
      "You should consider upgrading via the '/home/ec2-user/anaconda3/envs/python3/bin/python -m pip install --upgrade pip' command.\u001b[0m\n"
     ]
    }
   ],
   "source": [
    "import sys\n",
    "!{sys.executable} -m pip install PyAthena"
   ]
  },
  {
   "cell_type": "code",
   "execution_count": 82,
   "metadata": {},
   "outputs": [],
   "source": [
    "from pyathena import connect\n",
    "import math\n",
    "import pandas as pd\n",
    "import matplotlib.pyplot as plt"
   ]
  },
  {
   "cell_type": "code",
   "execution_count": 83,
   "metadata": {},
   "outputs": [],
   "source": [
    "conn = connect(s3_staging_dir='s3://aws-simplified-results-antek',\n",
    "               region_name='us-east-1')"
   ]
  },
  {
   "cell_type": "code",
   "execution_count": 84,
   "metadata": {},
   "outputs": [],
   "source": [
    "METRICS_COLS = ','.join(['time', 'workflowId', 'jobId', 'name', 'parameter', 'valueStr', 'valueFloat', 'valueInt', 'valueDict'])\n",
    "SYS_INFO_COLS = ','.join(['cpu', 'mem', 'jobId'])\n",
    "JOB_DESCRIPTION_COLS = ','.join(['workflowName', 'size', 'version', 'hyperflowId', 'jobId', 'env', 'nodeName', 'executable', 'args', 'inputs', 'outputs', 'name', 'command'])"
   ]
  },
  {
   "cell_type": "code",
   "execution_count": 155,
   "metadata": {},
   "outputs": [],
   "source": [
    "def query_athena_metrics(table):\n",
    "    metrics_df = pd.read_sql('SELECT {} FROM hyperflow_logs.{};'.format(METRICS_COLS, table), conn)\n",
    "    return metrics_df[metrics_df['time'].notnull()]\n",
    "\n",
    "def query_athena_sysinfo(table):\n",
    "    metrics_df = pd.read_sql('SELECT {} FROM hyperflow_logs.{};'.format(SYS_INFO_COLS, table), conn)\n",
    "    return metrics_df[metrics_df['cpu'].notnull()]\n",
    "\n",
    "def merge_value_num(df):\n",
    "    df['valueNum'] = [val[0] if math.isnan(val[1]) else val[1] for val in zip(df['valueFloat'], df['valueInt'])]"
   ]
  },
  {
   "cell_type": "code",
   "execution_count": 191,
   "metadata": {},
   "outputs": [],
   "source": [
    "def get_resource_mean(metrics_df, resource):\n",
    "    return metrics_df[(metrics_df['parameter']==resource) & (~metrics_df['valueNum'].isna()) & (metrics_df['valueNum'] > 0)].groupby('name')['valueNum'].mean()\n",
    "\n",
    "def compare_resource_mean(metrics_df1, metrics_df2, resource):\n",
    "    ctime3 = get_resource_mean(metrics_df1, resource).to_frame()\n",
    "    ctime32 = get_resource_mean(metrics_df2, resource).to_frame()\n",
    "    merged = pd.concat([ctime3, ctime32], keys=['3','32'], axis=1)\n",
    "    #merged.plot(kind='bar')\n",
    "    return merged\n",
    "\n",
    "def print_sys_info(sys_info, component='cpu'):\n",
    "    if component == 'cpu':\n",
    "        cpu_string = sys_info.iloc[0]['cpu']\n",
    "        print(cpu_string[cpu_string.find('cores'):cpu_string.find('socket')])\n",
    "        #print('cpu speed:',sys_info.iloc[0]['cpu']['speed'])\n",
    "        #print('cpu cores:',sys_info.iloc[0]['cpu']['cores'])\n",
    "        #print('cpu physicalcores:',sys_info.iloc[0]['cpu']['physicalCores'])\n",
    "        #print('cpu processors:',sys_info.iloc[0]['cpu']['processors'])"
   ]
  },
  {
   "cell_type": "code",
   "execution_count": 187,
   "metadata": {},
   "outputs": [],
   "source": [
    "# aws/t3.large/montage2__0_01__1_0_0__2020_06_01_18_14_25\n",
    "# aws/t3.2xlarge/montage2__0.01__1.0.0__2020_06_20_19_36_56\n",
    "metrics_df_large3 = query_athena_metrics('montage2__0_01__1_0_0__2020_06_01_18_14_25') # aws/t3.large/montage2__0_01__1_0_0__2020_06_01_18_14_25\n",
    "merge_value_num(metrics_df_large3)\n",
    "metrics_df_large32 = query_athena_metrics('montage2__0_01__1_0_0__2020_06_20_19_36_56') # aws/t3.large/montage2__0_01__1_0_0__2020_06_01_18_14_25\n",
    "merge_value_num(metrics_df_large32)"
   ]
  },
  {
   "cell_type": "code",
   "execution_count": 197,
   "metadata": {},
   "outputs": [
    {
     "name": "stdout",
     "output_type": "stream",
     "text": [
      "CPU info 3: cores=2, physicalcores=2, processors=1, \n",
      "CPU info 3.2: cores=8, physicalcores=8, processors=1, \n"
     ]
    }
   ],
   "source": [
    "sysinfo_df_large3 = query_athena_sysinfo('montage2__0_01__1_0_0__2020_06_01_18_14_25') # aws/t3.large/montage2__0_01__1_0_0__2020_06_01_18_14_25\n",
    "sysinfo_df_large32 = query_athena_sysinfo('montage2__0_01__1_0_0__2020_06_20_19_36_56') # aws/t3.large/montage2__0_01__1_0_0__2020_06_01_18_14_25\n",
    "print('CPU info 3: ', end = '')\n",
    "print_sys_info(sysinfo_df_large3)\n",
    "print('CPU info 3.2: ', end = '')\n",
    "print_sys_info(sysinfo_df_large32)"
   ]
  },
  {
   "cell_type": "code",
   "execution_count": 198,
   "metadata": {},
   "outputs": [
    {
     "data": {
      "text/plain": [
       "<matplotlib.axes._subplots.AxesSubplot at 0x7f6900dfa828>"
      ]
     },
     "execution_count": 198,
     "metadata": {},
     "output_type": "execute_result"
    },
    {
     "data": {
      "image/png": "[encoded data removed]",
      "text/plain": [
       "<Figure size 432x288 with 1 Axes>"
      ]
     },
     "metadata": {
      "needs_background": "light"
     },
     "output_type": "display_data"
    }
   ],
   "source": [
    "comparison = compare_resource_mean(metrics_df_large3, metrics_df_large32, 'cpu')\n",
    "comparison.plot(kind='bar')"
   ]
  },
  {
   "cell_type": "code",
   "execution_count": 210,
   "metadata": {},
   "outputs": [
    {
     "data": {
      "text/plain": [
       "<matplotlib.axes._subplots.AxesSubplot at 0x7f6900e33dd8>"
      ]
     },
     "execution_count": 210,
     "metadata": {},
     "output_type": "execute_result"
    },
    {
     "data": {
      "image/png": "[encoded data removed]",
      "text/plain": [
       "<Figure size 432x288 with 1 Axes>"
      ]
     },
     "metadata": {
      "needs_background": "light"
     },
     "output_type": "display_data"
    }
   ],
   "source": [
    "comparison = compare_resource_mean(metrics_df_large3, metrics_df_large32, 'ctime')\n",
    "type(comparison)\n",
    "comparison[:6].plot(kind='bar')"
   ]
  },
  {
   "cell_type": "code",
   "execution_count": 211,
   "metadata": {},
   "outputs": [
    {
     "data": {
      "text/plain": [
       "<matplotlib.axes._subplots.AxesSubplot at 0x7f6900b353c8>"
      ]
     },
     "execution_count": 211,
     "metadata": {},
     "output_type": "execute_result"
    },
    {
     "data": {
      "image/png": "[encoded data removed]",
      "text/plain": [
       "<Figure size 432x288 with 1 Axes>"
      ]
     },
     "metadata": {
      "needs_background": "light"
     },
     "output_type": "display_data"
    }
   ],
   "source": [
    "comparison = compare_resource_mean(metrics_df_large3, metrics_df_large32, 'memory')\n",
    "comparison.plot(kind='bar')"
   ]
  },
  {
   "cell_type": "code",
   "execution_count": null,
   "metadata": {},
   "outputs": [],
   "source": []
  }
 ],
 "metadata": {
  "kernelspec": {
   "display_name": "conda_python3",
   "language": "python",
   "name": "conda_python3"
  },
  "language_info": {
   "codemirror_mode": {
    "name": "ipython",
    "version": 3
   },
   "file_extension": ".py",
   "mimetype": "text/x-python",
   "name": "python",
   "nbconvert_exporter": "python",
   "pygments_lexer": "ipython3",
   "version": "3.6.10"
  }
 },
 "nbformat": 4,
 "nbformat_minor": 4
}
